{
  "nbformat": 4,
  "nbformat_minor": 0,
  "metadata": {
    "colab": {
      "name": "collision in hashtable.ipynb",
      "provenance": [],
      "authorship_tag": "ABX9TyN7Jdmcpo7Az3/tlX/pciON",
      "include_colab_link": true
    },
    "kernelspec": {
      "name": "python3",
      "display_name": "Python 3"
    }
  },
  "cells": [
    {
      "cell_type": "markdown",
      "metadata": {
        "id": "view-in-github",
        "colab_type": "text"
      },
      "source": [
        "<a href=\"https://colab.research.google.com/github/Degananda264/Data-Structures/blob/master/collision_in_hashtable.ipynb\" target=\"_parent\"><img src=\"https://colab.research.google.com/assets/colab-badge.svg\" alt=\"Open In Colab\"/></a>"
      ]
    },
    {
      "cell_type": "code",
      "metadata": {
        "id": "BWDZG_SFcN3k",
        "colab_type": "code",
        "colab": {}
      },
      "source": [
        "\n",
        "class HashTable:  \n",
        "    def __init__(self):\n",
        "        self.MAX = 10\n",
        "        self.arr = [None for i in range(self.MAX)]\n",
        "        \n",
        "    def get_hash(self, key):\n",
        "        hash = 0\n",
        "        for char in key:\n",
        "            hash += ord(char)\n",
        "        return hash % self.MAX\n",
        "    \n",
        "    def __getitem__(self, index):\n",
        "        h = self.get_hash(index)\n",
        "        return self.arr[h]\n",
        "    \n",
        "    def __setitem__(self, key, val):\n",
        "        h = self.get_hash(key)\n",
        "        self.arr[h] = val"
      ],
      "execution_count": 0,
      "outputs": []
    },
    {
      "cell_type": "code",
      "metadata": {
        "id": "cQmei_HtccNU",
        "colab_type": "code",
        "colab": {
          "base_uri": "https://localhost:8080/",
          "height": 34
        },
        "outputId": "c519ce20-5af4-4380-b7d0-87f49c52eb8e"
      },
      "source": [
        "t = HashTable()\n",
        "t.get_hash(\"march 6\")"
      ],
      "execution_count": 2,
      "outputs": [
        {
          "output_type": "execute_result",
          "data": {
            "text/plain": [
              "9"
            ]
          },
          "metadata": {
            "tags": []
          },
          "execution_count": 2
        }
      ]
    },
    {
      "cell_type": "code",
      "metadata": {
        "id": "fdMby3aWcgH9",
        "colab_type": "code",
        "colab": {
          "base_uri": "https://localhost:8080/",
          "height": 34
        },
        "outputId": "058061ad-4f9f-4652-908d-993f87f8c6f3"
      },
      "source": [
        "t.get_hash(\"march 17\")"
      ],
      "execution_count": 3,
      "outputs": [
        {
          "output_type": "execute_result",
          "data": {
            "text/plain": [
              "9"
            ]
          },
          "metadata": {
            "tags": []
          },
          "execution_count": 3
        }
      ]
    },
    {
      "cell_type": "code",
      "metadata": {
        "id": "yqmtAUkLciUb",
        "colab_type": "code",
        "colab": {}
      },
      "source": [
        "t[\"march 6\"] = 120\n",
        "t[\"march 8\"] = 67\n",
        "t[\"march 9\"] = 4\n",
        "t[\"march 17\"] = 459"
      ],
      "execution_count": 0,
      "outputs": []
    },
    {
      "cell_type": "code",
      "metadata": {
        "id": "3pRZ9rABckdh",
        "colab_type": "code",
        "colab": {
          "base_uri": "https://localhost:8080/",
          "height": 34
        },
        "outputId": "ea0c99bf-335e-407b-f815-6adb6a88e558"
      },
      "source": [
        "t[\"march 6\"]"
      ],
      "execution_count": 5,
      "outputs": [
        {
          "output_type": "execute_result",
          "data": {
            "text/plain": [
              "459"
            ]
          },
          "metadata": {
            "tags": []
          },
          "execution_count": 5
        }
      ]
    },
    {
      "cell_type": "markdown",
      "metadata": {
        "id": "bxDOmexLcprl",
        "colab_type": "text"
      },
      "source": [
        "Hash Table Collision Handling Using Chaining"
      ]
    },
    {
      "cell_type": "code",
      "metadata": {
        "id": "jaDELpFQclwy",
        "colab_type": "code",
        "colab": {}
      },
      "source": [
        "class HashTable:  \n",
        "    def __init__(self):\n",
        "        self.MAX = 10\n",
        "        self.arr = [[] for i in range(self.MAX)]\n",
        "        \n",
        "    def get_hash(self, key):\n",
        "        hash = 0\n",
        "        for char in key:\n",
        "            hash += ord(char)\n",
        "        return hash % self.MAX\n",
        "    \n",
        "    def __getitem__(self, key):\n",
        "        arr_index = self.get_hash(key)\n",
        "        for kv in self.arr[arr_index]:\n",
        "            if kv[0] == key:\n",
        "                return kv[1]\n",
        "            \n",
        "    def __setitem__(self, key, val):\n",
        "        h = self.get_hash(key)\n",
        "        found = False\n",
        "        for idx, element in enumerate(self.arr[h]):\n",
        "            if len(element)==2 and element[0] == key:\n",
        "                self.arr[h][idx] = (key,val)\n",
        "                found = True\n",
        "        if not found:\n",
        "            self.arr[h].append((key,val))\n",
        "        \n",
        "    def __delitem__(self, key):\n",
        "        arr_index = self.get_hash(key)\n",
        "        for index, kv in enumerate(self.arr[arr_index]):\n",
        "            if kv[0] == key:\n",
        "                print(\"del\",index)\n",
        "                del self.arr[arr_index][index]"
      ],
      "execution_count": 0,
      "outputs": []
    },
    {
      "cell_type": "code",
      "metadata": {
        "id": "_taFGU4Bc2eT",
        "colab_type": "code",
        "colab": {}
      },
      "source": [
        "t = HashTable()\n",
        "t[\"march 6\"] = 310\n",
        "t[\"march 7\"] = 420\n",
        "t[\"march 8\"] = 67\n",
        "t[\"march 17\"] = 63457"
      ],
      "execution_count": 0,
      "outputs": []
    },
    {
      "cell_type": "code",
      "metadata": {
        "id": "MSE2sYqyc5q7",
        "colab_type": "code",
        "colab": {
          "base_uri": "https://localhost:8080/",
          "height": 34
        },
        "outputId": "7542128c-4e35-48e2-b1c3-7284c4ecdf8c"
      },
      "source": [
        "t[\"march 6\"]"
      ],
      "execution_count": 10,
      "outputs": [
        {
          "output_type": "execute_result",
          "data": {
            "text/plain": [
              "310"
            ]
          },
          "metadata": {
            "tags": []
          },
          "execution_count": 10
        }
      ]
    },
    {
      "cell_type": "code",
      "metadata": {
        "id": "izJwPnmEc7YV",
        "colab_type": "code",
        "colab": {
          "base_uri": "https://localhost:8080/",
          "height": 34
        },
        "outputId": "8af2099c-37cf-4c9d-9176-0d025d1f3de9"
      },
      "source": [
        "t[\"march 17\"]"
      ],
      "execution_count": 11,
      "outputs": [
        {
          "output_type": "execute_result",
          "data": {
            "text/plain": [
              "63457"
            ]
          },
          "metadata": {
            "tags": []
          },
          "execution_count": 11
        }
      ]
    },
    {
      "cell_type": "code",
      "metadata": {
        "id": "bWfG5A_Qc_kv",
        "colab_type": "code",
        "colab": {
          "base_uri": "https://localhost:8080/",
          "height": 187
        },
        "outputId": "fbb3eadd-c0ea-45ce-c550-6448e5ab050a"
      },
      "source": [
        "t.arr"
      ],
      "execution_count": 12,
      "outputs": [
        {
          "output_type": "execute_result",
          "data": {
            "text/plain": [
              "[[('march 7', 420)],\n",
              " [('march 8', 67)],\n",
              " [],\n",
              " [],\n",
              " [],\n",
              " [],\n",
              " [],\n",
              " [],\n",
              " [],\n",
              " [('march 6', 310), ('march 17', 63457)]]"
            ]
          },
          "metadata": {
            "tags": []
          },
          "execution_count": 12
        }
      ]
    },
    {
      "cell_type": "code",
      "metadata": {
        "id": "SCVScKDDdCMl",
        "colab_type": "code",
        "colab": {}
      },
      "source": [
        "t[\"march 6\"] = 11"
      ],
      "execution_count": 0,
      "outputs": []
    },
    {
      "cell_type": "code",
      "metadata": {
        "id": "f1afWBridFri",
        "colab_type": "code",
        "colab": {
          "base_uri": "https://localhost:8080/",
          "height": 187
        },
        "outputId": "cf617fc4-0df9-4506-e96b-913d5a114d5a"
      },
      "source": [
        "t.arr"
      ],
      "execution_count": 14,
      "outputs": [
        {
          "output_type": "execute_result",
          "data": {
            "text/plain": [
              "[[('march 7', 420)],\n",
              " [('march 8', 67)],\n",
              " [],\n",
              " [],\n",
              " [],\n",
              " [],\n",
              " [],\n",
              " [],\n",
              " [],\n",
              " [('march 6', 11), ('march 17', 63457)]]"
            ]
          },
          "metadata": {
            "tags": []
          },
          "execution_count": 14
        }
      ]
    },
    {
      "cell_type": "code",
      "metadata": {
        "id": "1aWC5VMsdGai",
        "colab_type": "code",
        "colab": {
          "base_uri": "https://localhost:8080/",
          "height": 34
        },
        "outputId": "f724c464-df5a-4418-86ae-3f0408f095b4"
      },
      "source": [
        "del t['march 6']"
      ],
      "execution_count": 15,
      "outputs": [
        {
          "output_type": "stream",
          "text": [
            "del 0\n"
          ],
          "name": "stdout"
        }
      ]
    },
    {
      "cell_type": "code",
      "metadata": {
        "id": "-8wUaxFDdMiB",
        "colab_type": "code",
        "colab": {
          "base_uri": "https://localhost:8080/",
          "height": 187
        },
        "outputId": "0ddecfd1-e85c-445b-a0e6-d3df3f20033a"
      },
      "source": [
        "t.arr"
      ],
      "execution_count": 16,
      "outputs": [
        {
          "output_type": "execute_result",
          "data": {
            "text/plain": [
              "[[('march 7', 420)],\n",
              " [('march 8', 67)],\n",
              " [],\n",
              " [],\n",
              " [],\n",
              " [],\n",
              " [],\n",
              " [],\n",
              " [],\n",
              " [('march 17', 63457)]]"
            ]
          },
          "metadata": {
            "tags": []
          },
          "execution_count": 16
        }
      ]
    },
    {
      "cell_type": "code",
      "metadata": {
        "id": "Oy8xpE0MdNPh",
        "colab_type": "code",
        "colab": {}
      },
      "source": [
        ""
      ],
      "execution_count": 0,
      "outputs": []
    }
  ]
}